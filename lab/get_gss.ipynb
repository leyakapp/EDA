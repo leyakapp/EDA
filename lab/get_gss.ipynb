{
  "cells": [
    {
      "cell_type": "markdown",
      "id": "1wG5tUBJZAeC",
      "metadata": {
        "id": "1wG5tUBJZAeC"
      },
      "source": [
        "## Getting the GSS Data\n",
        "\n",
        "Since the data files are about 40GB zipped, we can't store a compressed or uncompressed version on GitHub, and the entire dataset can't really be loaded into memory with Colab.\n",
        "\n",
        "One option is to use Rivana: Download the data, unzip it, and work on it in a persistent environment.\n",
        "\n",
        "The other option is to avoid opening the entire file at once, and instead work with chunks of the data. That's what this code does for you.\n",
        "\n",
        "On GitHub, the data are broken into three smaller files, saved in .parquet format. The code below will load these chunks into memory, one at a time, you can specify the variables you want in `var_list`, and the results will be saved in `selected_gss_data.csv`.\n",
        "\n",
        "You can add more cleaning instructions in between the lines where the data are loaded ( `df = pd.read_parquet(url)`) and the data are saved (`df.loc...`). It's probably easiest to use this code to get only the variables you want, and then clean that subset of the data."
      ]
    },
    {
      "cell_type": "code",
      "execution_count": 8,
      "id": "898a40de-9f3d-4dfc-8878-cd3badfdbcec",
      "metadata": {
        "id": "898a40de-9f3d-4dfc-8878-cd3badfdbcec",
        "outputId": "836d6ec5-dbd2-49ee-d09c-33351bb403ad"
      },
      "outputs": [
        {
          "name": "stdout",
          "output_type": "stream",
          "text": [
            "https://github.com/DS3001/project_gss/raw/main/gss_chunk_1.parquet\n",
            "   year   age     sex   race  educ        marital  realinc  \\\n",
            "0  1972  23.0  female  white  16.0  never married  18951.0   \n",
            "1  1972  70.0    male  white  10.0        married  24366.0   \n",
            "2  1972  48.0  female  white  12.0        married  24366.0   \n",
            "3  1972  27.0  female  white  17.0        married  30458.0   \n",
            "4  1972  61.0  female  white  12.0        married  50763.0   \n",
            "\n",
            "               region polviews                             partyid  \\\n",
            "0  east north central      NaN      independent, close to democrat   \n",
            "1  east north central      NaN            not very strong democrat   \n",
            "2  east north central      NaN  independent (neither, no response)   \n",
            "3  east north central      NaN            not very strong democrat   \n",
            "4  east north central      NaN                     strong democrat   \n",
            "\n",
            "        relig          happy  \n",
            "0      jewish  not too happy  \n",
            "1    catholic  not too happy  \n",
            "2  protestant   pretty happy  \n",
            "3       other  not too happy  \n",
            "4  protestant   pretty happy  \n",
            "https://github.com/DS3001/project_gss/raw/main/gss_chunk_2.parquet\n",
            "   year   age     sex   race  educ        marital  realinc          region  \\\n",
            "0  1989  62.0    male  white  14.0        married   5102.0  south atlantic   \n",
            "1  1989  32.0  female  black  14.0        married   3247.0  south atlantic   \n",
            "2  1989  80.0  female  white  12.0        widowed   6958.0  south atlantic   \n",
            "3  1989  19.0    male  white  10.0  never married      NaN  south atlantic   \n",
            "4  1989  67.0  female  white   6.0        widowed   6030.0  south atlantic   \n",
            "\n",
            "                       polviews                             partyid  \\\n",
            "0                  conservative            not very strong democrat   \n",
            "1                       liberal                     strong democrat   \n",
            "2  moderate, middle of the road                     strong democrat   \n",
            "3              slightly liberal  independent (neither, no response)   \n",
            "4  moderate, middle of the road                     strong democrat   \n",
            "\n",
            "        relig          happy  \n",
            "0  protestant     very happy  \n",
            "1  protestant  not too happy  \n",
            "2  protestant   pretty happy  \n",
            "3  protestant   pretty happy  \n",
            "4  protestant   pretty happy  \n",
            "https://github.com/DS3001/project_gss/raw/main/gss_chunk_3.parquet\n",
            "   year   age     sex   race  educ        marital   realinc       region  \\\n",
            "0  2006  48.0    male  white  12.0        married  68220.00  new england   \n",
            "1  2006  25.0    male  white  16.0  never married  46901.25  new england   \n",
            "2  2006  42.0    male  white  16.0       divorced  38373.75  new england   \n",
            "3  2006  24.0    male  white  14.0  never married  21318.75  new england   \n",
            "4  2006  24.0  female  white  16.0        married  46901.25  new england   \n",
            "\n",
            "                       polviews                             partyid  \\\n",
            "0  moderate, middle of the road  independent (neither, no response)   \n",
            "1              slightly liberal  independent (neither, no response)   \n",
            "2         slightly conservative          not very strong republican   \n",
            "3                       liberal          not very strong republican   \n",
            "4         slightly conservative          not very strong republican   \n",
            "\n",
            "        relig         happy  \n",
            "0   christian           NaN  \n",
            "1        none  pretty happy  \n",
            "2    catholic  pretty happy  \n",
            "3  protestant           NaN  \n",
            "4    catholic    very happy  \n"
          ]
        }
      ],
      "source": [
        "import pandas as pd\n",
        "#\n",
        "var_list = ['year', 'age', 'sex', 'race', 'educ','marital','realinc', 'region', 'polviews', 'partyid', 'relig', 'happy'] # List of variables you want to save\n",
        "output_filename = 'selected_gss_data.csv' # Name of the file you want to save the data to\n",
        "#\n",
        "phase = 0 # Starts in write mode; after one iteration of loop, switches to append mode\n",
        "#\n",
        "for k in range(3): # for each chunk of the data\n",
        "    url = 'https://github.com/DS3001/project_gss/raw/main/gss_chunk_' + str(1+k) + '.parquet' # Create url to the chunk to be processed\n",
        "    print(url) # Check the url is correct\n",
        "    df = pd.read_parquet(url) # Download this chunk of data\n",
        "    print(df.loc[:, var_list].head())\n",
        "    if phase == 0 :\n",
        "        df.loc[:,var_list].to_csv(output_filename, # specifies target file to save the chunk to\n",
        "                                mode='w', # control write versus append\n",
        "                                header=var_list, # variable names\n",
        "                                index=False) # no row index saved\n",
        "        phase = 1 # Switch from write mode to append mode\n",
        "    elif phase == 1 :\n",
        "        df.loc[:,var_list].to_csv(output_filename, # specifies target file to save the chunk to\n",
        "                                mode='a', # control write versus append\n",
        "                                header=None, # variable names\n",
        "                                index=False) # no row index saved\n",
        "        phase = 1 # Switch from write mode to append mode"
      ]
    }
  ],
  "metadata": {
    "colab": {
      "provenance": []
    },
    "kernelspec": {
      "display_name": "Python 3",
      "language": "python",
      "name": "python3"
    },
    "language_info": {
      "codemirror_mode": {
        "name": "ipython",
        "version": 3
      },
      "file_extension": ".py",
      "mimetype": "text/x-python",
      "name": "python",
      "nbconvert_exporter": "python",
      "pygments_lexer": "ipython3",
      "version": "3.12.0"
    }
  },
  "nbformat": 4,
  "nbformat_minor": 5
}
